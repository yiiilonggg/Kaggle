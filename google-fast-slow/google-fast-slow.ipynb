{
 "cells": [
  {
   "cell_type": "code",
   "execution_count": 1,
   "id": "3f0e19c7",
   "metadata": {
    "_cell_guid": "b1076dfc-b9ad-4769-8c92-a6c4dae69d19",
    "_uuid": "8f2839f25d086af736a60e9eeb907d3b93b6e0e5",
    "execution": {
     "iopub.execute_input": "2023-11-14T16:13:09.043642Z",
     "iopub.status.busy": "2023-11-14T16:13:09.042952Z",
     "iopub.status.idle": "2023-11-14T16:13:21.659731Z",
     "shell.execute_reply": "2023-11-14T16:13:21.658447Z"
    },
    "papermill": {
     "duration": 12.62489,
     "end_time": "2023-11-14T16:13:21.662555",
     "exception": false,
     "start_time": "2023-11-14T16:13:09.037665",
     "status": "completed"
    },
    "tags": []
   },
   "outputs": [],
   "source": [
    "import os\n",
    "import numpy as np\n",
    "import pandas as pd\n",
    "import tensorflow as tf\n",
    "import keras.backend as K\n",
    "import matplotlib.pyplot as plt\n",
    "\n",
    "from collections import deque\n",
    "from keras import layers, models, metrics\n",
    "from sklearn.linear_model import LinearRegression"
   ]
  },
  {
   "cell_type": "code",
   "execution_count": 2,
   "id": "954c3cf0",
   "metadata": {
    "execution": {
     "iopub.execute_input": "2023-11-14T16:13:21.673159Z",
     "iopub.status.busy": "2023-11-14T16:13:21.672425Z",
     "iopub.status.idle": "2023-11-14T16:13:22.211923Z",
     "shell.execute_reply": "2023-11-14T16:13:22.210413Z"
    },
    "papermill": {
     "duration": 0.547427,
     "end_time": "2023-11-14T16:13:22.215413",
     "exception": false,
     "start_time": "2023-11-14T16:13:21.667986",
     "status": "completed"
    },
    "tags": []
   },
   "outputs": [],
   "source": [
    "DIR = \"/kaggle/input/predict-ai-model-runtime/npz_all/npz/\"\n",
    "FILE_TYPE = 'xla'\n",
    "DATA_CONFIGS = ['tile', 'layout']\n",
    "DATA_GROUP = ['train', 'valid', 'test']\n",
    "LAYOUT_SUBGROUPS = ['random', 'default']\n",
    "\n",
    "def data_group_splitter(data):\n",
    "    return [data[data['data_group'] == group] for group in DATA_GROUP]\n",
    "\n",
    "def generate_data_files_df():\n",
    "    df = pd.DataFrame(columns = ['id', 'file_path', 'data_group', 'config'])\n",
    "    for curr_config in os.listdir(DIR):\n",
    "                          \n",
    "        data_dir = [os.path.join(DIR, curr_config, FILE_TYPE)]\n",
    "        if curr_config == 'layout':\n",
    "            data_dir = [os.path.join(d, subgroup) for d in data_dir for subgroup in LAYOUT_SUBGROUPS]\n",
    "        for dd in data_dir:\n",
    "            for group in DATA_GROUP:\n",
    "                df = pd.concat([df,\n",
    "                                pd.DataFrame([{'id': file.split('/')[-1].split('.')[0],\n",
    "                                               'file_path': os.path.join(dd, group, file),\n",
    "                                               'data_group': group,\n",
    "                                               'config': curr_config} for file in os.listdir(os.path.join(dd, group))])])\n",
    "\n",
    "    return [data_group_splitter(df[df['config'] == config]) for config in DATA_CONFIGS]\n",
    "\n",
    "(train_tile_data, valid_tile_data, test_tile_data), (train_layout_data, valid_layout_data, test_layout_data) = generate_data_files_df()"
   ]
  },
  {
   "cell_type": "code",
   "execution_count": 3,
   "id": "602698cb",
   "metadata": {
    "execution": {
     "iopub.execute_input": "2023-11-14T16:13:22.224607Z",
     "iopub.status.busy": "2023-11-14T16:13:22.223857Z",
     "iopub.status.idle": "2023-11-14T16:13:22.243698Z",
     "shell.execute_reply": "2023-11-14T16:13:22.242332Z"
    },
    "papermill": {
     "duration": 0.02818,
     "end_time": "2023-11-14T16:13:22.246851",
     "exception": false,
     "start_time": "2023-11-14T16:13:22.218671",
     "status": "completed"
    },
    "tags": []
   },
   "outputs": [],
   "source": [
    "def create_differentiable_model(\n",
    "    input_features,\n",
    "    hidden_units,\n",
    "    dropout_rate\n",
    "):\n",
    "    input_layer = layers.Input((-1, input_features), activation = 'relu')\n",
    "    x = layers.BatchNormalization()(input_layer)\n",
    "    for i in range(len(hidden_units) - 1):\n",
    "        x = layers.Dense(hidden_units[i], activation = 'relu')(x)\n",
    "        x = layers.BatchNormalization()(x)\n",
    "        x = layers.Dropout(dropout_rate)(x)\n",
    "    x = layers.Dense(hidden_units[-1], activation = 'relu')(x)\n",
    "    return models.Model(input_layer, x)\n",
    "\n",
    "class GraphConvLayer(layers.Layer):\n",
    "    def __init__(\n",
    "        self,\n",
    "        input_features,\n",
    "        hidden_units,\n",
    "        dropout_rate\n",
    "    ):\n",
    "        self.message_fn = create_differentiable_model(input_features, hidden_units, dropout_rate)\n",
    "        self.update_fn = create_differentiable_model(input_features, hidden_units, dropout_rate)\n",
    "        \n",
    "    def get_messages(self, nodes):\n",
    "        return self.message_fn(nodes)\n",
    "    \n",
    "    def aggregate(self, indices, neighbour_messages, nodes):\n",
    "        return tf.math.unsorted_segment_mean(\n",
    "            neighbour_messages, indices, nodes.shape[0]\n",
    "        )\n",
    "    \n",
    "    def update(self, nodes, aggregated_messages):\n",
    "        h_v = tf.concat([nodes, aggregated_messages], axis = 1)\n",
    "        h_v = self.update_fn(h_v)\n",
    "        h_v = tf.nn.l2_normalize(h_v, axis = -1)\n",
    "        return h_v\n",
    "    \n",
    "    def call(self, inputs):\n",
    "        nodes, edges = inputs\n",
    "        targets, sources = edges\n",
    "        neighbours = tf.gather(nodes, targets)\n",
    "        neighbour_messages = self.get_messages(neighbours)\n",
    "        aggregated_messages = self.aggregate(targets, neighbour_messages, nodes)\n",
    "        return self.update(nodes, aggregated_messages)\n",
    "\n",
    "class GCN(models.Model):\n",
    "    \n",
    "    def __init__(\n",
    "        self,\n",
    "        graph,\n",
    "        K,\n",
    "        input_features,\n",
    "        hidden_units,\n",
    "        dropout_rate,\n",
    "        *args,\n",
    "        **kwargs\n",
    "    ):\n",
    "        super.__init__(*args, **kwargs)\n",
    "        self.nodes, self.edges = graph\n",
    "        self.K = K\n",
    "        self.gcn_layers = [GraphConvLayer(input_features, hidden_units, droput_rate) for i in range(K)]\n",
    "        \n",
    "    def call(self, input_nodes):\n",
    "        x = tf.gather(self.nodes, input_nodes)\n",
    "        for layers in self.gcn_layers:\n",
    "            x = layers((self.nodes, self.edges)) + x\n",
    "        return tf.gather(x, input_nodes)    "
   ]
  },
  {
   "cell_type": "code",
   "execution_count": null,
   "id": "777142a0",
   "metadata": {
    "execution": {
     "iopub.execute_input": "2023-10-03T06:40:50.551619Z",
     "iopub.status.busy": "2023-10-03T06:40:50.551248Z",
     "iopub.status.idle": "2023-10-03T06:40:50.563931Z",
     "shell.execute_reply": "2023-10-03T06:40:50.562794Z",
     "shell.execute_reply.started": "2023-10-03T06:40:50.551587Z"
    },
    "papermill": {
     "duration": 0.002827,
     "end_time": "2023-11-14T16:13:22.253117",
     "exception": false,
     "start_time": "2023-11-14T16:13:22.250290",
     "status": "completed"
    },
    "tags": []
   },
   "outputs": [],
   "source": []
  },
  {
   "cell_type": "code",
   "execution_count": null,
   "id": "8fdf8c2f",
   "metadata": {
    "papermill": {
     "duration": 0.002705,
     "end_time": "2023-11-14T16:13:22.258848",
     "exception": false,
     "start_time": "2023-11-14T16:13:22.256143",
     "status": "completed"
    },
    "tags": []
   },
   "outputs": [],
   "source": []
  },
  {
   "cell_type": "code",
   "execution_count": null,
   "id": "8aa503b9",
   "metadata": {
    "papermill": {
     "duration": 0.002794,
     "end_time": "2023-11-14T16:13:22.264573",
     "exception": false,
     "start_time": "2023-11-14T16:13:22.261779",
     "status": "completed"
    },
    "tags": []
   },
   "outputs": [],
   "source": []
  }
 ],
 "metadata": {
  "kernelspec": {
   "display_name": "Python 3",
   "language": "python",
   "name": "python3"
  },
  "language_info": {
   "codemirror_mode": {
    "name": "ipython",
    "version": 3
   },
   "file_extension": ".py",
   "mimetype": "text/x-python",
   "name": "python",
   "nbconvert_exporter": "python",
   "pygments_lexer": "ipython3",
   "version": "3.10.12"
  },
  "papermill": {
   "default_parameters": {},
   "duration": 20.10706,
   "end_time": "2023-11-14T16:13:24.698642",
   "environment_variables": {},
   "exception": null,
   "input_path": "__notebook__.ipynb",
   "output_path": "__notebook__.ipynb",
   "parameters": {},
   "start_time": "2023-11-14T16:13:04.591582",
   "version": "2.4.0"
  }
 },
 "nbformat": 4,
 "nbformat_minor": 5
}
